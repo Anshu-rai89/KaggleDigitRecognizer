{
  "nbformat": 4,
  "nbformat_minor": 0,
  "metadata": {
    "colab": {
      "name": "Kaggle_DigitRecognizer.ipynb",
      "version": "0.3.2",
      "provenance": [],
      "collapsed_sections": [],
      "include_colab_link": true
    },
    "language_info": {
      "codemirror_mode": {
        "name": "ipython",
        "version": 3
      },
      "file_extension": ".py",
      "mimetype": "text/x-python",
      "name": "python",
      "nbconvert_exporter": "python",
      "pygments_lexer": "ipython3",
      "version": "3.7.1"
    },
    "kernelspec": {
      "display_name": "Python 3",
      "language": "python",
      "name": "python3"
    }
  },
  "cells": [
    {
      "cell_type": "markdown",
      "metadata": {
        "id": "view-in-github",
        "colab_type": "text"
      },
      "source": [
        "<a href=\"https://colab.research.google.com/github/Anshu-rai89/KaggleDigitRecognizer/blob/master/Kaggle_DigitRecognizer.ipynb\" target=\"_parent\"><img src=\"https://colab.research.google.com/assets/colab-badge.svg\" alt=\"Open In Colab\"/></a>"
      ]
    },
    {
      "cell_type": "markdown",
      "metadata": {
        "id": "r-m8DD9xgIjB",
        "colab_type": "text"
      },
      "source": [
        "**Digital Recognizer Kaggle Competition **\n",
        "\n",
        "We Will Build Two Model One we will Use Pca To Reduce Our Image Dimension Second We will Use Convolution Neural Network In which We have Two Convulation Layer Each Foolowed By a Pooling Layer with Stride =1 And Padding= SAME . We will Use one Dense Layer followed By Our Output Layer \n",
        "\n",
        "\n",
        "**Structure of Data **\n",
        "\n",
        "We Will Directly import MNIST Data From Tensorflow Datasets With Hot Encoded Labels.\n",
        "\n",
        "MNIST Dataset have 55000 Training Images With  784 SIze  shape of Training Data is (55000,784)\n",
        "Train Images are Available In Flatten Format \n",
        "\n",
        "Testing Data : Mnist Dataset Have 10000 Testing Images with Shape (10000,784) Available in Flatten Format and Labels Are Hot encoded i.e one lable is array of 10 with 1 present to class it belongs to and rest 0 \n",
        "\n",
        "**We will First Import our data Find out Training and Testing Shape Apply Pca And will Reduce Dimension of images Kepping 99% of information Than we will feeed that Data to SVM **\n",
        "\n",
        "**IN second Model We will Build two Convulation Layer using Tensorflow  Each having 32 and 64 Units Our Convulation layer have filter size of 5*5  and Polling layer 2*2 With Stride =1 And Padding =SAME **\n",
        "\n",
        "we will find out our Cost on Prediction Then we will Try to reduce our cost using Inbuild Optimizer Available in Tensorflow which will take Learning Rate and Cost And will Reduce Cost \n",
        "\n",
        "we will Further Try to reduce our cost By iterating for 25 times where each time we fill Find our cost On Batch size or Batch Gradient Descent Inspite of Passing Whole Data At one Go We will Find out our Cost By Passin Data In Batches \n",
        "\n",
        "At last We will Print out Total cost After Every Iteration We will Try to Reach to A minimal Cost \n",
        "\n",
        "At last We will Predict on Our Test Data And Analyse our Accuracy By Correct Labels "
      ]
    },
    {
      "cell_type": "code",
      "metadata": {
        "id": "b7uT1p-MgGOh",
        "colab_type": "code",
        "colab": {}
      },
      "source": [
        "import tensorflow as tf"
      ],
      "execution_count": 0,
      "outputs": []
    },
    {
      "cell_type": "markdown",
      "metadata": {
        "id": "k2Ii86Ahf_z_",
        "colab_type": "text"
      },
      "source": [
        "Importing Our Dataset From Tensorflow  Which is available in tenserflow.examples.tutorials.mnist"
      ]
    },
    {
      "cell_type": "code",
      "metadata": {
        "id": "CGnAf4H3iGHO",
        "colab_type": "code",
        "outputId": "0a52c398-dd2e-44e5-9e28-d2912076c00e",
        "colab": {
          "base_uri": "https://localhost:8080/",
          "height": 530
        }
      },
      "source": [
        "from tensorflow.examples.tutorials.mnist import input_data\n",
        "mnist = input_data.read_data_sets(\"MNIST_data/\", one_hot = True)"
      ],
      "execution_count": 0,
      "outputs": [
        {
          "output_type": "stream",
          "text": [
            "WARNING:tensorflow:From <ipython-input-3-02b855d8d526>:2: read_data_sets (from tensorflow.contrib.learn.python.learn.datasets.mnist) is deprecated and will be removed in a future version.\n",
            "Instructions for updating:\n",
            "Please use alternatives such as official/mnist/dataset.py from tensorflow/models.\n",
            "WARNING:tensorflow:From /usr/local/lib/python3.6/dist-packages/tensorflow/contrib/learn/python/learn/datasets/mnist.py:260: maybe_download (from tensorflow.contrib.learn.python.learn.datasets.base) is deprecated and will be removed in a future version.\n",
            "Instructions for updating:\n",
            "Please write your own downloading logic.\n",
            "WARNING:tensorflow:From /usr/local/lib/python3.6/dist-packages/tensorflow/contrib/learn/python/learn/datasets/base.py:252: _internal_retry.<locals>.wrap.<locals>.wrapped_fn (from tensorflow.contrib.learn.python.learn.datasets.base) is deprecated and will be removed in a future version.\n",
            "Instructions for updating:\n",
            "Please use urllib or similar directly.\n",
            "Successfully downloaded train-images-idx3-ubyte.gz 9912422 bytes.\n",
            "WARNING:tensorflow:From /usr/local/lib/python3.6/dist-packages/tensorflow/contrib/learn/python/learn/datasets/mnist.py:262: extract_images (from tensorflow.contrib.learn.python.learn.datasets.mnist) is deprecated and will be removed in a future version.\n",
            "Instructions for updating:\n",
            "Please use tf.data to implement this functionality.\n",
            "Extracting MNIST_data/train-images-idx3-ubyte.gz\n",
            "Successfully downloaded train-labels-idx1-ubyte.gz 28881 bytes.\n",
            "WARNING:tensorflow:From /usr/local/lib/python3.6/dist-packages/tensorflow/contrib/learn/python/learn/datasets/mnist.py:267: extract_labels (from tensorflow.contrib.learn.python.learn.datasets.mnist) is deprecated and will be removed in a future version.\n",
            "Instructions for updating:\n",
            "Please use tf.data to implement this functionality.\n",
            "Extracting MNIST_data/train-labels-idx1-ubyte.gz\n",
            "WARNING:tensorflow:From /usr/local/lib/python3.6/dist-packages/tensorflow/contrib/learn/python/learn/datasets/mnist.py:110: dense_to_one_hot (from tensorflow.contrib.learn.python.learn.datasets.mnist) is deprecated and will be removed in a future version.\n",
            "Instructions for updating:\n",
            "Please use tf.one_hot on tensors.\n",
            "Successfully downloaded t10k-images-idx3-ubyte.gz 1648877 bytes.\n",
            "Extracting MNIST_data/t10k-images-idx3-ubyte.gz\n",
            "Successfully downloaded t10k-labels-idx1-ubyte.gz 4542 bytes.\n",
            "Extracting MNIST_data/t10k-labels-idx1-ubyte.gz\n",
            "WARNING:tensorflow:From /usr/local/lib/python3.6/dist-packages/tensorflow/contrib/learn/python/learn/datasets/mnist.py:290: DataSet.__init__ (from tensorflow.contrib.learn.python.learn.datasets.mnist) is deprecated and will be removed in a future version.\n",
            "Instructions for updating:\n",
            "Please use alternatives such as official/mnist/dataset.py from tensorflow/models.\n"
          ],
          "name": "stdout"
        }
      ]
    },
    {
      "cell_type": "code",
      "metadata": {
        "id": "dNfmsoqwyoWD",
        "colab_type": "code",
        "outputId": "41f6c89c-425b-4693-b939-d114f978c816",
        "colab": {
          "base_uri": "https://localhost:8080/",
          "height": 54
        }
      },
      "source": [
        "mnist"
      ],
      "execution_count": 0,
      "outputs": [
        {
          "output_type": "execute_result",
          "data": {
            "text/plain": [
              "Datasets(train=<tensorflow.contrib.learn.python.learn.datasets.mnist.DataSet object at 0x7f68294793c8>, validation=<tensorflow.contrib.learn.python.learn.datasets.mnist.DataSet object at 0x7f681fe05d68>, test=<tensorflow.contrib.learn.python.learn.datasets.mnist.DataSet object at 0x7f681fe05978>)"
            ]
          },
          "metadata": {
            "tags": []
          },
          "execution_count": 7
        }
      ]
    },
    {
      "cell_type": "code",
      "metadata": {
        "id": "YTnU7Q7sysm1",
        "colab_type": "code",
        "outputId": "f6f7dbdc-9aba-4616-a569-134b43985f5c",
        "colab": {
          "base_uri": "https://localhost:8080/",
          "height": 34
        }
      },
      "source": [
        "mnist.train.images.shape, mnist.train.labels.shape"
      ],
      "execution_count": 0,
      "outputs": [
        {
          "output_type": "execute_result",
          "data": {
            "text/plain": [
              "((55000, 784), (55000, 10))"
            ]
          },
          "metadata": {
            "tags": []
          },
          "execution_count": 8
        }
      ]
    },
    {
      "cell_type": "code",
      "metadata": {
        "id": "YU8Ve9aDyw_H",
        "colab_type": "code",
        "outputId": "9079faf0-b7b4-4569-d8f4-d7c908999414",
        "colab": {
          "base_uri": "https://localhost:8080/",
          "height": 34
        }
      },
      "source": [
        "mnist.train.labels[0]"
      ],
      "execution_count": 0,
      "outputs": [
        {
          "output_type": "execute_result",
          "data": {
            "text/plain": [
              "array([0., 0., 0., 0., 0., 0., 0., 1., 0., 0.])"
            ]
          },
          "metadata": {
            "tags": []
          },
          "execution_count": 9
        }
      ]
    },
    {
      "cell_type": "code",
      "metadata": {
        "id": "PR3AXbO_y5Gw",
        "colab_type": "code",
        "outputId": "f4217a2b-1df8-4908-893b-93959a2555c5",
        "colab": {
          "base_uri": "https://localhost:8080/",
          "height": 34
        }
      },
      "source": [
        "mnist.test.images.shape, mnist.test.labels.shape"
      ],
      "execution_count": 0,
      "outputs": [
        {
          "output_type": "execute_result",
          "data": {
            "text/plain": [
              "((10000, 784), (10000, 10))"
            ]
          },
          "metadata": {
            "tags": []
          },
          "execution_count": 10
        }
      ]
    },
    {
      "cell_type": "code",
      "metadata": {
        "id": "OdtLyqmKy_OJ",
        "colab_type": "code",
        "outputId": "a5fa8db7-0225-474a-df5a-a6b9627118f7",
        "colab": {
          "base_uri": "https://localhost:8080/",
          "height": 34
        }
      },
      "source": [
        "mnist.validation.images.shape"
      ],
      "execution_count": 0,
      "outputs": [
        {
          "output_type": "execute_result",
          "data": {
            "text/plain": [
              "(5000, 784)"
            ]
          },
          "metadata": {
            "tags": []
          },
          "execution_count": 11
        }
      ]
    },
    {
      "cell_type": "code",
      "metadata": {
        "id": "x53MnCLqzBAv",
        "colab_type": "code",
        "colab": {}
      },
      "source": [
        "import matplotlib.pyplot as plt"
      ],
      "execution_count": 0,
      "outputs": []
    },
    {
      "cell_type": "code",
      "metadata": {
        "id": "WcmDEsGBzJP7",
        "colab_type": "code",
        "outputId": "b0af9d3b-e99d-480f-c55a-1dff8c9fa118",
        "colab": {
          "base_uri": "https://localhost:8080/",
          "height": 486
        }
      },
      "source": [
        "fig=plt.figure(figsize=(8,8))\n",
        "for i in range(64):\n",
        "    ax=fig.add_subplot(8,8,i+1)\n",
        "    ax.imshow(mnist.train.images.reshape((55000,28,28))[i],cmap=plt.cm.bone)\n",
        "    \n",
        "plt.show()"
      ],
      "execution_count": 0,
      "outputs": [
        {
          "output_type": "display_data",
          "data": {
            "image/png": "[encoded data removed]",
            "text/plain": [
              "<Figure size 576x576 with 64 Axes>"
            ]
          },
          "metadata": {
            "tags": []
          }
        }
      ]
    },
    {
      "cell_type": "code",
      "metadata": {
        "id": "-TMCLR-emOFX",
        "colab_type": "code",
        "colab": {}
      },
      "source": [
        "from sklearn.decomposition import PCA"
      ],
      "execution_count": 0,
      "outputs": []
    },
    {
      "cell_type": "code",
      "metadata": {
        "id": "-0N2AHANtqco",
        "colab_type": "code",
        "outputId": "e21488e9-75db-4f9d-9b27-0dd10c4034e0",
        "colab": {
          "base_uri": "https://localhost:8080/",
          "height": 85
        }
      },
      "source": [
        "mnist1 = input_data.read_data_sets(\"MNIST_data/\", one_hot = False)"
      ],
      "execution_count": 0,
      "outputs": [
        {
          "output_type": "stream",
          "text": [
            "Extracting MNIST_data/train-images-idx3-ubyte.gz\n",
            "Extracting MNIST_data/train-labels-idx1-ubyte.gz\n",
            "Extracting MNIST_data/t10k-images-idx3-ubyte.gz\n",
            "Extracting MNIST_data/t10k-labels-idx1-ubyte.gz\n"
          ],
          "name": "stdout"
        }
      ]
    },
    {
      "cell_type": "code",
      "metadata": {
        "id": "AHbJTBIitwS1",
        "colab_type": "code",
        "outputId": "ed6082e7-c97b-4ed5-93d1-a35f0c22d251",
        "colab": {
          "base_uri": "https://localhost:8080/",
          "height": 34
        }
      },
      "source": [
        "mnist1.train.images.shape,mnist1.train.labels.shape"
      ],
      "execution_count": 0,
      "outputs": [
        {
          "output_type": "execute_result",
          "data": {
            "text/plain": [
              "((55000, 784), (55000,))"
            ]
          },
          "metadata": {
            "tags": []
          },
          "execution_count": 47
        }
      ]
    },
    {
      "cell_type": "code",
      "metadata": {
        "id": "TujEbE6Vt6KO",
        "colab_type": "code",
        "outputId": "01a1a532-4dbd-450a-d99b-594169ff8136",
        "colab": {
          "base_uri": "https://localhost:8080/",
          "height": 34
        }
      },
      "source": [
        "mnist1.test.images.shape, mnist1.test.labels.shape"
      ],
      "execution_count": 0,
      "outputs": [
        {
          "output_type": "execute_result",
          "data": {
            "text/plain": [
              "((10000, 784), (10000,))"
            ]
          },
          "metadata": {
            "tags": []
          },
          "execution_count": 49
        }
      ]
    },
    {
      "cell_type": "code",
      "metadata": {
        "id": "dpoFXY1GnIf4",
        "colab_type": "code",
        "outputId": "b19ffd57-8677-4716-9885-4fe9a4e9ea2f",
        "colab": {
          "base_uri": "https://localhost:8080/",
          "height": 51
        }
      },
      "source": [
        "pca=PCA()\n",
        "pca.fit(mnist1.train.images,mnist1.train.labels)"
      ],
      "execution_count": 0,
      "outputs": [
        {
          "output_type": "execute_result",
          "data": {
            "text/plain": [
              "PCA(copy=True, iterated_power='auto', n_components=None, random_state=None,\n",
              "  svd_solver='auto', tol=0.0, whiten=False)"
            ]
          },
          "metadata": {
            "tags": []
          },
          "execution_count": 50
        }
      ]
    },
    {
      "cell_type": "code",
      "metadata": {
        "id": "8x3FpMg2nh3P",
        "colab_type": "code",
        "outputId": "71b7e88d-5c71-4329-9aa3-444a6e75e8fb",
        "colab": {
          "base_uri": "https://localhost:8080/",
          "height": 34
        }
      },
      "source": [
        "pca.components_.shape"
      ],
      "execution_count": 0,
      "outputs": [
        {
          "output_type": "execute_result",
          "data": {
            "text/plain": [
              "(784, 784)"
            ]
          },
          "metadata": {
            "tags": []
          },
          "execution_count": 51
        }
      ]
    },
    {
      "cell_type": "code",
      "metadata": {
        "id": "1AIxhHmonzjl",
        "colab_type": "code",
        "outputId": "5a6668da-0f8e-4b75-dfc1-d36ae4c68941",
        "colab": {
          "base_uri": "https://localhost:8080/",
          "height": 34
        }
      },
      "source": [
        "k=0\n",
        "total=0\n",
        "while total<0.99:\n",
        "    total+=pca.explained_variance_ratio_[k]\n",
        "    k=k+1\n",
        "k"
      ],
      "execution_count": 0,
      "outputs": [
        {
          "output_type": "execute_result",
          "data": {
            "text/plain": [
              "331"
            ]
          },
          "metadata": {
            "tags": []
          },
          "execution_count": 52
        }
      ]
    },
    {
      "cell_type": "code",
      "metadata": {
        "id": "9v44i7fon068",
        "colab_type": "code",
        "colab": {}
      },
      "source": [
        "pca=PCA(n_components=k,whiten=True)\n",
        "x_transform=pca.fit_transform(mnist1.train.images)\n",
        "x_test_pca=pca.transform(mnist1.test.images)"
      ],
      "execution_count": 0,
      "outputs": []
    },
    {
      "cell_type": "code",
      "metadata": {
        "id": "g-DmUwGooOr-",
        "colab_type": "code",
        "colab": {}
      },
      "source": [
        "from sklearn import svm\n",
        "import numpy as np"
      ],
      "execution_count": 0,
      "outputs": []
    },
    {
      "cell_type": "code",
      "metadata": {
        "id": "yOjkdrs8qcxk",
        "colab_type": "code",
        "outputId": "0076490c-2235-4d02-ee77-ffc411c3215c",
        "colab": {
          "base_uri": "https://localhost:8080/",
          "height": 34
        }
      },
      "source": [
        ""
      ],
      "execution_count": 0,
      "outputs": [
        {
          "output_type": "execute_result",
          "data": {
            "text/plain": [
              "55000"
            ]
          },
          "metadata": {
            "tags": []
          },
          "execution_count": 31
        }
      ]
    },
    {
      "cell_type": "code",
      "metadata": {
        "id": "6XRUkIStpmMx",
        "colab_type": "code",
        "colab": {}
      },
      "source": [
        ""
      ],
      "execution_count": 0,
      "outputs": []
    },
    {
      "cell_type": "code",
      "metadata": {
        "id": "ByWQx_DDoi-f",
        "colab_type": "code",
        "outputId": "5829b3d0-b519-4ac2-e6a4-633d7993785e",
        "colab": {
          "base_uri": "https://localhost:8080/",
          "height": 139
        }
      },
      "source": [
        "clf1=svm.SVC()\n",
        "clf1.fit(x_transform,mnist1.train.labels)"
      ],
      "execution_count": 0,
      "outputs": [
        {
          "output_type": "stream",
          "text": [
            "/usr/local/lib/python3.6/dist-packages/sklearn/svm/base.py:196: FutureWarning: The default value of gamma will change from 'auto' to 'scale' in version 0.22 to account better for unscaled features. Set gamma explicitly to 'auto' or 'scale' to avoid this warning.\n",
            "  \"avoid this warning.\", FutureWarning)\n"
          ],
          "name": "stderr"
        },
        {
          "output_type": "execute_result",
          "data": {
            "text/plain": [
              "SVC(C=1.0, cache_size=200, class_weight=None, coef0=0.0,\n",
              "  decision_function_shape='ovr', degree=3, gamma='auto_deprecated',\n",
              "  kernel='rbf', max_iter=-1, probability=False, random_state=None,\n",
              "  shrinking=True, tol=0.001, verbose=False)"
            ]
          },
          "metadata": {
            "tags": []
          },
          "execution_count": 56
        }
      ]
    },
    {
      "cell_type": "code",
      "metadata": {
        "id": "2u1_Mo56vcOk",
        "colab_type": "code",
        "colab": {}
      },
      "source": [
        "predict_svm=clf1.predict(x_test_pca)"
      ],
      "execution_count": 0,
      "outputs": []
    },
    {
      "cell_type": "code",
      "metadata": {
        "id": "zKUfLQ6Hv3tx",
        "colab_type": "code",
        "colab": {}
      },
      "source": [
        "from sklearn.metrics import accuracy_score"
      ],
      "execution_count": 0,
      "outputs": []
    },
    {
      "cell_type": "code",
      "metadata": {
        "id": "G3UPWWo3wGTy",
        "colab_type": "code",
        "outputId": "35b173fa-4241-4906-c708-7ca4765c978a",
        "colab": {
          "base_uri": "https://localhost:8080/",
          "height": 34
        }
      },
      "source": [
        "accuracy_score(mnist1.test.labels,predict_svm)"
      ],
      "execution_count": 0,
      "outputs": [
        {
          "output_type": "execute_result",
          "data": {
            "text/plain": [
              "0.9634"
            ]
          },
          "metadata": {
            "tags": []
          },
          "execution_count": 61
        }
      ]
    },
    {
      "cell_type": "markdown",
      "metadata": {
        "id": "-T1uVsJmxMyv",
        "colab_type": "text"
      },
      "source": [
        "**Accuracy With SVM is 96.34**\n",
        "\n",
        "**Further Optimization In Svm **\n",
        "\n",
        "We can optimize our Svm classifier By finding out Optimal Values of C And Gamma(Regularization )\n",
        "Using GridsearchCv \n"
      ]
    },
    {
      "cell_type": "markdown",
      "metadata": {
        "id": "5mgPXXEQwoAZ",
        "colab_type": "text"
      },
      "source": [
        "**Building Our Second Model **\n"
      ]
    },
    {
      "cell_type": "code",
      "metadata": {
        "id": "jXji2fqoiGHW",
        "colab_type": "code",
        "colab": {}
      },
      "source": [
        "input_image_width = 28\n",
        "input_image_height = 28\n",
        "input_image_channels = 1\n",
        "input_image_pixels = 784\n",
        "\n",
        "no_of_units_conv1 = 32\n",
        "no_of_units_conv2 = 64\n",
        "stride_conv1 = 1\n",
        "stride_conv2 = 1\n",
        "conv1_filter = 5\n",
        "conv2_filter = 5\n",
        "max_pool1_k = 2\n",
        "max_pool2_k = 2\n",
        "\n",
        "no_of_units_hidden_layer = 1024\n",
        "no_of_units_output_layer = 10\n",
        "input_size_to_hidden = (input_image_width//(max_pool1_k*max_pool2_k)) * (input_image_height//(max_pool1_k*max_pool2_k)) *no_of_units_conv2\n"
      ],
      "execution_count": 0,
      "outputs": []
    },
    {
      "cell_type": "code",
      "metadata": {
        "id": "SAaOtpTWiGHb",
        "colab_type": "code",
        "outputId": "c3f70aca-8ecf-4676-c416-b2576a0c4bfd",
        "colab": {
          "base_uri": "https://localhost:8080/",
          "height": 88
        }
      },
      "source": [
        "weights = {\n",
        "    \"wconv1\" : tf.Variable(tf.random_normal([conv1_filter, conv1_filter, input_image_channels, no_of_units_conv1])),\n",
        "    \"wconv2\" : tf.Variable(tf.random_normal([conv2_filter, conv2_filter, no_of_units_conv1,no_of_units_conv2])),\n",
        "    \"whidden_layer1\" : tf.Variable(tf.random_normal([input_size_to_hidden,no_of_units_hidden_layer])),\n",
        "    \"woutput\" : tf.Variable(tf.random_normal([no_of_units_hidden_layer, no_of_units_output_layer]))\n",
        "}\n",
        "\n",
        "biases = {\n",
        "    \"bconv1\" : tf.Variable(tf.random_normal([no_of_units_conv1])),\n",
        "    \"bconv2\" : tf.Variable(tf.random_normal([no_of_units_conv2])),\n",
        "    \"bhidden_layer1\" : tf.Variable(tf.random_normal([no_of_units_hidden_layer])),\n",
        "    \"boutput\" : tf.Variable(tf.random_normal([no_of_units_output_layer])),\n",
        "}"
      ],
      "execution_count": 0,
      "outputs": [
        {
          "output_type": "stream",
          "text": [
            "WARNING:tensorflow:From /usr/local/lib/python3.6/dist-packages/tensorflow/python/framework/op_def_library.py:263: colocate_with (from tensorflow.python.framework.ops) is deprecated and will be removed in a future version.\n",
            "Instructions for updating:\n",
            "Colocations handled automatically by placer.\n"
          ],
          "name": "stdout"
        }
      ]
    },
    {
      "cell_type": "code",
      "metadata": {
        "id": "D9XFV3qMiGHm",
        "colab_type": "code",
        "colab": {}
      },
      "source": [
        "def convulation(x, weights, bias, strides = 1):\n",
        "    out = tf.nn.conv2d(x, weights, padding=\"SAME\", strides = [1, strides, strides, 1])\n",
        "    out = tf.nn.bias_add(out, bias)\n",
        "    out = tf.nn.relu(out)\n",
        "    return out\n",
        "\n",
        "def maxpooling(x, k = 2):\n",
        "    return tf.nn.max_pool(x, padding = \"SAME\", ksize = [1, k, k, 1], strides = [1, k, k, 1])"
      ],
      "execution_count": 0,
      "outputs": []
    },
    {
      "cell_type": "code",
      "metadata": {
        "id": "8yEyleGdiGHq",
        "colab_type": "code",
        "colab": {}
      },
      "source": [
        "def cnn(x, weights, biases, keep_prob):\n",
        "    x = tf.reshape(x, shape = [-1 ,input_image_height, input_image_width, input_image_channels])\n",
        "    convul1 = convulation(x, weights['wconv1'], biases['bconv1'], stride_conv1)\n",
        "    convul1_pool = maxpooling(convul1, max_pool1_k)\n",
        "    \n",
        "    convul2 = convulation(convul1_pool, weights['wconv2'], biases['bconv2'], stride_conv2)\n",
        "    convul2_pool = maxpooling(convul2, max_pool2_k)\n",
        "    \n",
        "    hidden_layer_input = tf.reshape(convul2_pool, shape = [-1, input_size_to_hidden])\n",
        "    hidden_layer_output_before_activation = tf.add(tf.matmul(hidden_layer_input, weights['whidden_layer1']), biases['bhidden_layer1'])\n",
        "    hidden_layer_output_before_dropout = tf.nn.relu(hidden_layer_output_before_activation)\n",
        "    hidden_layer_output = tf.nn.dropout(hidden_layer_output_before_dropout, keep_prob) \n",
        "   \n",
        "    output = tf.add(tf.matmul(hidden_layer_output, weights['woutput']), biases['boutput'])\n",
        "    return output"
      ],
      "execution_count": 0,
      "outputs": []
    },
    {
      "cell_type": "code",
      "metadata": {
        "id": "HImk4_VfiGH2",
        "colab_type": "code",
        "outputId": "7d6a17cb-4d62-4619-c09b-c00aac9d61de",
        "colab": {
          "base_uri": "https://localhost:8080/",
          "height": 88
        }
      },
      "source": [
        "x = tf.placeholder(\"float\", [None, input_image_pixels])\n",
        "y = tf.placeholder(tf.int32, [None, no_of_units_output_layer])\n",
        "keep_prob = tf.placeholder(\"float\")\n",
        "pred = cnn(x, weights, biases, keep_prob)"
      ],
      "execution_count": 0,
      "outputs": [
        {
          "output_type": "stream",
          "text": [
            "WARNING:tensorflow:From <ipython-input-65-d3f7d7184d86>:12: calling dropout (from tensorflow.python.ops.nn_ops) with keep_prob is deprecated and will be removed in a future version.\n",
            "Instructions for updating:\n",
            "Please use `rate` instead of `keep_prob`. Rate should be set to `rate = 1 - keep_prob`.\n"
          ],
          "name": "stdout"
        }
      ]
    },
    {
      "cell_type": "code",
      "metadata": {
        "id": "4_9GnE_giGIB",
        "colab_type": "code",
        "colab": {}
      },
      "source": [
        "cost = tf.reduce_mean(tf.nn.softmax_cross_entropy_with_logits_v2(logits=pred, labels = y))"
      ],
      "execution_count": 0,
      "outputs": []
    },
    {
      "cell_type": "code",
      "metadata": {
        "id": "KZpUloqhiGIE",
        "colab_type": "code",
        "colab": {}
      },
      "source": [
        "optimizer = tf.train.AdamOptimizer(learning_rate=0.01)\n",
        "optimize = optimizer.minimize(cost)"
      ],
      "execution_count": 0,
      "outputs": []
    },
    {
      "cell_type": "code",
      "metadata": {
        "id": "dKDklGxKiGIK",
        "colab_type": "code",
        "colab": {}
      },
      "source": [
        "sess = tf.Session()\n",
        "sess.run(tf.global_variables_initializer())"
      ],
      "execution_count": 0,
      "outputs": []
    },
    {
      "cell_type": "markdown",
      "metadata": {
        "id": "g_FZSR9F3XbG",
        "colab_type": "text"
      },
      "source": [
        "Finding OUT Cost In Batches \n",
        "Batch size is 100 And We have our Data Presesnt in Batches In Mnist"
      ]
    },
    {
      "cell_type": "code",
      "metadata": {
        "id": "Gnh9P6__iGIQ",
        "colab_type": "code",
        "outputId": "5e925c20-5596-450c-fd03-4559df8c9dde",
        "colab": {
          "base_uri": "https://localhost:8080/",
          "height": 442
        }
      },
      "source": [
        "batch_size = 100\n",
        "for i in range(25):\n",
        "    num_batches = int(mnist.train.num_examples/batch_size)\n",
        "    total_cost = 0\n",
        "    for j in range(num_batches):\n",
        "        batch_x, batch_y = mnist.train.next_batch(batch_size)\n",
        "        c, _ = sess.run([cost,optimize], feed_dict={x:batch_x , y:batch_y, keep_prob:0.8})\n",
        "        total_cost += c\n",
        "    print(total_cost)"
      ],
      "execution_count": 0,
      "outputs": [
        {
          "output_type": "stream",
          "text": [
            "820269.5673208237\n",
            "30944.806359052658\n",
            "17587.70692006126\n",
            "11453.372914715646\n",
            "8938.105173596783\n",
            "7072.5648676082565\n",
            "6398.90689133372\n",
            "5806.571886829412\n",
            "5510.322079180245\n",
            "6108.594479219057\n",
            "4318.183180144191\n",
            "3604.643419545834\n",
            "2933.3642968548597\n",
            "4161.303013977702\n",
            "3127.8623188877336\n",
            "2985.639475888037\n",
            "2168.3316611855576\n",
            "2456.142408820661\n",
            "2362.676978334396\n",
            "1765.6981250172203\n",
            "1900.9086323736585\n",
            "2061.343553113278\n",
            "1994.5978122448382\n",
            "1633.0025793955767\n",
            "2044.3261894297857\n"
          ],
          "name": "stdout"
        }
      ]
    },
    {
      "cell_type": "code",
      "metadata": {
        "id": "V_QAcjDRiGIV",
        "colab_type": "code",
        "outputId": "70aa28af-ee6c-4918-dc67-57cc2c1e9019",
        "colab": {
          "base_uri": "https://localhost:8080/",
          "height": 34
        }
      },
      "source": [
        "predictions = tf.argmax(pred, 1)\n",
        "correct_labels = tf.argmax(y, 1)\n",
        "correct_predictions = tf.equal(predictions, correct_labels)\n",
        "predictions,correct_preds  = sess.run([predictions, correct_predictions], feed_dict={x:mnist.test.images,\n",
        "                                              y:mnist.test.labels, keep_prob:1.0})\n",
        "correct_preds.sum()"
      ],
      "execution_count": 0,
      "outputs": [
        {
          "output_type": "execute_result",
          "data": {
            "text/plain": [
              "9845"
            ]
          },
          "metadata": {
            "tags": []
          },
          "execution_count": 71
        }
      ]
    },
    {
      "cell_type": "code",
      "metadata": {
        "id": "dMiwKA_Z3rx4",
        "colab_type": "code",
        "colab": {}
      },
      "source": [
        ""
      ],
      "execution_count": 0,
      "outputs": []
    },
    {
      "cell_type": "markdown",
      "metadata": {
        "id": "w_EWRce93sqU",
        "colab_type": "text"
      },
      "source": [
        "**Accuracy With CNN is 98 .45**"
      ]
    }
  ]
}